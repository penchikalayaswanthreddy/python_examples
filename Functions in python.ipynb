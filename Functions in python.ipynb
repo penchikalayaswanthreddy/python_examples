{
 "cells": [
  {
   "cell_type": "markdown",
   "metadata": {},
   "source": [
    "# Functions in python"
   ]
  },
  {
   "cell_type": "code",
   "execution_count": null,
   "metadata": {},
   "outputs": [],
   "source": [
    "# sample function without any return statement"
   ]
  },
  {
   "cell_type": "code",
   "execution_count": 1,
   "metadata": {},
   "outputs": [
    {
     "name": "stdout",
     "output_type": "stream",
     "text": [
      "This is a sample function in python \n"
     ]
    }
   ],
   "source": [
    "def sample():\n",
    "    print(\"This is a sample function in python \")\n",
    "sample()"
   ]
  },
  {
   "cell_type": "code",
   "execution_count": 8,
   "metadata": {},
   "outputs": [
    {
     "name": "stdout",
     "output_type": "stream",
     "text": [
      "5\n"
     ]
    }
   ],
   "source": [
    "def sample(a,b):\n",
    "    c=a+b\n",
    "    print(c)\n",
    "sample(2,3)"
   ]
  },
  {
   "cell_type": "code",
   "execution_count": 6,
   "metadata": {},
   "outputs": [
    {
     "name": "stdout",
     "output_type": "stream",
     "text": [
      "6\n"
     ]
    }
   ],
   "source": [
    "def sample(a,b):\n",
    "    c=a+b\n",
    "    return c\n",
    "ans=sample(3,3)\n",
    "print(ans)"
   ]
  },
  {
   "cell_type": "code",
   "execution_count": null,
   "metadata": {},
   "outputs": [],
   "source": [
    "# Note by default a function returns a value None"
   ]
  },
  {
   "cell_type": "code",
   "execution_count": 10,
   "metadata": {},
   "outputs": [
    {
     "data": {
      "text/plain": [
       "5"
      ]
     },
     "execution_count": 10,
     "metadata": {},
     "output_type": "execute_result"
    }
   ],
   "source": [
    "# Lambda Function in python\n",
    "\n",
    "#syntax: lambda arguments: expression\n",
    "\n",
    "ans=lambda a,b : a+b\n",
    "\n",
    "ans(2,3) # calling a lamda function\n"
   ]
  },
  {
   "cell_type": "code",
   "execution_count": 21,
   "metadata": {},
   "outputs": [
    {
     "name": "stdout",
     "output_type": "stream",
     "text": [
      "<map object at 0x000001D65DB036A0>\n",
      "[1, 4, 9, 16, 25, 36]\n"
     ]
    }
   ],
   "source": [
    "# Map function in python\n",
    "\n",
    "# syntax : map(function, iterable)\n",
    "\n",
    "li=[1,2,3,4,5,6]\n",
    "def find_square(i):\n",
    "        return i*i\n",
    "ans=map(find_square,li)\n",
    "print(ans)\n",
    "print(list(ans))"
   ]
  },
  {
   "cell_type": "code",
   "execution_count": 20,
   "metadata": {},
   "outputs": [
    {
     "name": "stdout",
     "output_type": "stream",
     "text": [
      "<filter object at 0x000001D65DB03670>\n",
      "[2, 4, 6]\n"
     ]
    }
   ],
   "source": [
    "# filter function in python \n",
    "\n",
    "# syntax : filter(function, iterable)\n",
    "\n",
    "li=[1,2,3,4,5,6]\n",
    "def find_even(i):\n",
    "    return i%2==0\n",
    "ans=filter(find_even,li)\n",
    "print(ans)\n",
    "print(list(ans))\n"
   ]
  },
  {
   "cell_type": "code",
   "execution_count": 23,
   "metadata": {},
   "outputs": [
    {
     "name": "stdout",
     "output_type": "stream",
     "text": [
      "[1, 4, 9, 16, 25, 36]\n"
     ]
    }
   ],
   "source": [
    "# map function with lambda\n",
    "\n",
    "li=[1,2,3,4,5,6]\n",
    "ans=map(lambda i: i*i,li)\n",
    "print(list(ans))"
   ]
  },
  {
   "cell_type": "code",
   "execution_count": 25,
   "metadata": {},
   "outputs": [
    {
     "name": "stdout",
     "output_type": "stream",
     "text": [
      "[2, 4, 6]\n"
     ]
    }
   ],
   "source": [
    "# filter function with lambda\n",
    "\n",
    "li=[1,2,3,4,5,6]\n",
    "ans=filter(lambda i: i%2==0, li)\n",
    "print(list(ans))"
   ]
  },
  {
   "cell_type": "code",
   "execution_count": 29,
   "metadata": {},
   "outputs": [
    {
     "name": "stdout",
     "output_type": "stream",
     "text": [
      "120\n"
     ]
    }
   ],
   "source": [
    "# reduce function gives a single result (combined result)\n",
    "\n",
    "from functools import reduce\n",
    "li=[1,2,3,4,5]\n",
    "ans=reduce(lambda a,b:a*b, li )\n",
    "print(ans)"
   ]
  },
  {
   "cell_type": "code",
   "execution_count": null,
   "metadata": {},
   "outputs": [],
   "source": []
  }
 ],
 "metadata": {
  "kernelspec": {
   "display_name": "Python 3",
   "language": "python",
   "name": "python3"
  },
  "language_info": {
   "codemirror_mode": {
    "name": "ipython",
    "version": 3
   },
   "file_extension": ".py",
   "mimetype": "text/x-python",
   "name": "python",
   "nbconvert_exporter": "python",
   "pygments_lexer": "ipython3",
   "version": "3.8.5"
  }
 },
 "nbformat": 4,
 "nbformat_minor": 4
}
