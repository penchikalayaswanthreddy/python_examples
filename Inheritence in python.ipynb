{
 "cells": [
  {
   "cell_type": "markdown",
   "metadata": {},
   "source": [
    "# Inheritence in python"
   ]
  },
  {
   "cell_type": "code",
   "execution_count": 5,
   "metadata": {},
   "outputs": [
    {
     "name": "stdout",
     "output_type": "stream",
     "text": [
      "This is parent init method\n",
      "This is child init method\n",
      "This is parent method\n"
     ]
    }
   ],
   "source": [
    "class parent:\n",
    "    def __init__(self,name):\n",
    "        print(\"This is parent init method\")\n",
    "        self.name=name\n",
    "    def parent_method(self):\n",
    "        print(\"This is parent method\")\n",
    "class child(parent):\n",
    "    def __init__(self,age):\n",
    "        print(\"This is child init method\")\n",
    "        self.age=age\n",
    "    def child_method(self):\n",
    "        print(\"This is child method\")\n",
    "p=parent(\"CSK\")\n",
    "c=child(8)\n",
    "c.parent_method()\n",
    "# p.child_method() --->This is not possible i.e parent class object cannot call child class method"
   ]
  },
  {
   "cell_type": "code",
   "execution_count": 6,
   "metadata": {},
   "outputs": [
    {
     "name": "stdout",
     "output_type": "stream",
     "text": [
      "Inheritence in pyhton\n"
     ]
    }
   ],
   "source": [
    "# Note python supports Multiple Inheritence based on MRO (Method Resolution Order)\n",
    "\n",
    "'''\n",
    "In Python, the MRO is from bottom to top and left to right. This means that, first, the method is searched in the class \n",
    "of the object. If it’s not found, it is searched in the immediate super class. \n",
    "In the case of multiple super classes, it is searched left to right, in the order by which was declared by the developer.\n",
    "'''\n",
    "print(\"Inheritence in pyhton\")"
   ]
  },
  {
   "cell_type": "code",
   "execution_count": 12,
   "metadata": {},
   "outputs": [
    {
     "name": "stdout",
     "output_type": "stream",
     "text": [
      " init method of calss c is invoked\n",
      " init method of calss B is invoked\n"
     ]
    }
   ],
   "source": [
    "class A:\n",
    "    def __init__(self):\n",
    "        print(\" init method of calss A is invoked\")\n",
    "class B:\n",
    "    def __init__(self):\n",
    "        \n",
    "        print(\" init method of calss B is invoked\")\n",
    "class C(B,A): # Here B class is given High prefrence while calling superclass, since B is given first while declaring Class \"C\"\n",
    "    def __init__(self):\n",
    "        print(\" init method of calss c is invoked\")\n",
    "        super().__init__()\n",
    "c=C()\n",
    "\n",
    "    \n",
    "# Note the sam erule is applied to methods while calling      "
   ]
  },
  {
   "cell_type": "code",
   "execution_count": 15,
   "metadata": {},
   "outputs": [
    {
     "name": "stdout",
     "output_type": "stream",
     "text": [
      "This is a child class method\n"
     ]
    }
   ],
   "source": [
    "# Method over riding \n",
    "'''\n",
    "If the child class and suoper class has some common method , then the method that will be invoked will be based \n",
    "on the object with which you are calling the Common method\n",
    "'''\n",
    "\n",
    "class A:\n",
    "    def sample(self):\n",
    "        print(\"This is parent class method\")\n",
    "class B(A):\n",
    "    def sample(self):\n",
    "        print(\"This is a child class method\")\n",
    "b=B()\n",
    "b.sample()"
   ]
  },
  {
   "cell_type": "code",
   "execution_count": 16,
   "metadata": {},
   "outputs": [],
   "source": [
    "# Function overlaoding is not present in python"
   ]
  },
  {
   "cell_type": "code",
   "execution_count": null,
   "metadata": {},
   "outputs": [],
   "source": []
  }
 ],
 "metadata": {
  "kernelspec": {
   "display_name": "Python 3",
   "language": "python",
   "name": "python3"
  },
  "language_info": {
   "codemirror_mode": {
    "name": "ipython",
    "version": 3
   },
   "file_extension": ".py",
   "mimetype": "text/x-python",
   "name": "python",
   "nbconvert_exporter": "python",
   "pygments_lexer": "ipython3",
   "version": "3.8.5"
  }
 },
 "nbformat": 4,
 "nbformat_minor": 4
}
