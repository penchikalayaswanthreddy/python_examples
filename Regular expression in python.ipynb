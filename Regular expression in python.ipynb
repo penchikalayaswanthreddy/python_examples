{
 "cells": [
  {
   "cell_type": "markdown",
   "metadata": {},
   "source": [
    "# Regular Expressions in python"
   ]
  },
  {
   "cell_type": "code",
   "execution_count": 8,
   "metadata": {},
   "outputs": [
    {
     "name": "stdout",
     "output_type": "stream",
     "text": [
      "Regular expressions in python\n"
     ]
    }
   ],
   "source": [
    "'''\n",
    "\n",
    "A Regular Expressions (RegEx) is a special sequence of characters that uses a search pattern to find a string or set of strings.\n",
    "It can detect the presence or absence of a text by matching with a particular pattern, and also can split a pattern into one \n",
    "or more sub-patterns. Python provides a re module that supports the use of regex in Python. \n",
    "Its primary function is to offer a search, where it takes a regular expression and a string.\n",
    "Here, it either returns the first match or else none.\n",
    "\n",
    "MetaCharacters:\n",
    "\n",
    "To understand the RE analogy, MetaCharacters are useful, important, and will be used in functions of module re.\n",
    "Below is the list of metacharacters.\n",
    "\n",
    "MetaCharacters----------------->Description\n",
    "\n",
    "[]                              A set of characters  \"[a-m]\"\n",
    "\n",
    "\\                               Signals a special sequence (can also be used to escape special characters) \"\\d\"\n",
    "\n",
    ".                               Any character (except newline character) \"he..o\"\n",
    "\n",
    "^                               Starts with \"^hello\"\n",
    "\n",
    "$                               Ends with \"world$\"\n",
    "\n",
    "*                               Zero or more occurrences \"aix*\"\n",
    "\n",
    "+                               One or more occurrences \"aix+\"\n",
    "\n",
    "{}                              Exactly the specified number of occurrences \"al{2}\"\n",
    "\n",
    "|                               Either or \"falls|stays\"      \n",
    "\n",
    "()                              Capture and group\n",
    "\n",
    "Special Sequences\n",
    "\n",
    "A special sequence is a \\ followed by one of the characters in the list below, and has a special meaning:\n",
    "\n",
    "\n",
    "\n",
    "\\d                 Returns a match where the string contains digits (numbers from 0-9) \"\\d\"\n",
    "\n",
    "\\D                 Returns a match where the string DOES NOT contain digits            \"\\D\"\n",
    "\n",
    "\\s                 Returns a match where the string contains a white space character   \"\\s\"\n",
    "\n",
    "\\S                 Returns a match where the string DOES NOT contain a white space character \"\\S\"\n",
    "\n",
    "\\w                 Returns a match where the string contains any word characters (characters from a to Z, digits\n",
    "                                                                            from 0-9, and the underscore _ character) \"\\w\"\n",
    "                                                                            \n",
    "\\W                 Returns a match where the string DOES NOT contain any word characters \"\\W\"\n",
    "\n",
    "\\Z                 Returns a match if the specified characters are at the end of the string \"Spain\\Z\"\n",
    "\n",
    "\n",
    "\n",
    "Sets:\n",
    "\n",
    "A set is a set of characters inside a pair of square brackets [] with a special meaning:\n",
    "\n",
    "\n",
    "[arn]            Returns a match where one of the specified characters (a, r, or n) are present\n",
    "\n",
    "[a-n]            Returns a match for any lower case character, alphabetically between a and n\n",
    "\n",
    "[^arn]           Returns a match for any character EXCEPT a, r, and n\n",
    "\n",
    "[0123]           Returns a match where any of the specified digits (0, 1, 2, or 3) are present\n",
    "\n",
    "[0-9]            Returns a match for any digit between 0 and 9\n",
    "\n",
    "[0-5][0-9]       Returns a match for any two-digit numbers from 00 and 59\n",
    "\n",
    "[a-zA-Z]         Returns a match for any character alphabetically between a and z, lower case OR upper case\n",
    "\n",
    "[+]              In sets, +, *, ., |, (), $,{} has no special meaning, so [+] means: \n",
    "                 return a match for any + character in the string\n",
    "\n",
    "Function--------------->Description\n",
    "\n",
    "findall                 Returns a list containing all matches\n",
    "\n",
    "search                  Returns a Match object if there is a match anywhere in the string\n",
    "\n",
    "split                   Returns a list where the string has been split at each match\n",
    "\n",
    "sub                     Replaces one or many matches with a string\n",
    "\n",
    "\n",
    "\n",
    "\n",
    "\n",
    "\n",
    "'''\n",
    "print(\"Regular expressions in python\")"
   ]
  },
  {
   "cell_type": "code",
   "execution_count": 9,
   "metadata": {},
   "outputs": [
    {
     "name": "stdout",
     "output_type": "stream",
     "text": [
      "['9704495351', '9505010154']\n"
     ]
    }
   ],
   "source": [
    "# I want to match all the Mobile numbers in a sentence\n",
    "\n",
    "import re\n",
    "s=\"dhoni has no 9704495351 and kohli has number 9505010154 and the end\"\n",
    "li=re.findall('\\d{10}',s)\n",
    "print(li)"
   ]
  },
  {
   "cell_type": "code",
   "execution_count": 10,
   "metadata": {},
   "outputs": [
    {
     "name": "stdout",
     "output_type": "stream",
     "text": [
      "['9704495351', '9505010154']\n"
     ]
    }
   ],
   "source": [
    "# we can do the samething in an another way also\n",
    "se=\"dhoni has no 9704495351 and kohli has number 9505010154 and the end\"\n",
    "pat=re.compile('\\d{10}')\n",
    "ans=pat.findall(s)\n",
    "print(ans)\n"
   ]
  },
  {
   "cell_type": "code",
   "execution_count": 11,
   "metadata": {},
   "outputs": [
    {
     "name": "stdout",
     "output_type": "stream",
     "text": [
      "<re.Match object; span=(13, 23), match='9704495351'>\n",
      "<re.Match object; span=(45, 55), match='9505010154'>\n"
     ]
    }
   ],
   "source": [
    "#If you also Want to Findout at what position in the string the matches are found?\n",
    "s=\"dhoni has no 9704495351 and kohli has number 9505010154 and the end\"\n",
    "pat=re.compile('\\d{10}')\n",
    "ans=pat.finditer(s)\n",
    "for i in ans:\n",
    "    print(i)"
   ]
  },
  {
   "cell_type": "code",
   "execution_count": 14,
   "metadata": {},
   "outputs": [
    {
     "name": "stdout",
     "output_type": "stream",
     "text": [
      "<re.Match object; span=(13, 23), match='9704495351'>\n"
     ]
    }
   ],
   "source": [
    "# If you want to Find out just the First Mobile number match in the string\n",
    "s=\"dhoni has no 9704495351 and kohli has number 9505010154 and the end\"\n",
    "ans=re.search('\\d{10}',s)\n",
    "print(ans)\n"
   ]
  },
  {
   "cell_type": "code",
   "execution_count": 17,
   "metadata": {},
   "outputs": [
    {
     "name": "stdout",
     "output_type": "stream",
     "text": [
      "['My name is ', 'dhoni ans my  city is ', 'ranchi and my country is ', 'india']\n"
     ]
    }
   ],
   "source": [
    "# If you want to split the string where ever there is an ampersand symbol\n",
    "s=\"My name is @dhoni ans my  city is @ranchi and my country is @india\"\n",
    "ans=re.split('@',s)\n",
    "print(ans)"
   ]
  },
  {
   "cell_type": "code",
   "execution_count": 18,
   "metadata": {},
   "outputs": [],
   "source": [
    "# Note here in the output each comma is to seperate the individual items of the string"
   ]
  },
  {
   "cell_type": "code",
   "execution_count": 19,
   "metadata": {},
   "outputs": [
    {
     "name": "stdout",
     "output_type": "stream",
     "text": [
      "bunny: Door No 14/98 and prabhas Door No 12/48 and ntr Door No 10/23\n"
     ]
    }
   ],
   "source": [
    "# I want to replace d.no with Door No in the string\n",
    "s=\"bunny: d.no 14/98 and prabhas d.no 12/48 and ntr d.no 10/23\"\n",
    "ans=re.sub('d.no',\"Door No\",s)\n",
    "print(ans)"
   ]
  },
  {
   "cell_type": "code",
   "execution_count": 24,
   "metadata": {},
   "outputs": [
    {
     "name": "stdout",
     "output_type": "stream",
     "text": [
      "['yas824@gmail.com', 'sandeep143@gmail.com', 'rishi123@gmail.com']\n"
     ]
    }
   ],
   "source": [
    "# Lets say I want to match the Mial Ids in the sentence\n",
    "s=\" yas824@gmail.com has have  sandeep143@gmail.com is  that rishi123@gmail.com end of it\"\n",
    "ans=re.findall('\\w+@[a-z]+\\.[a-z]+',s)\n",
    "print(ans)"
   ]
  },
  {
   "cell_type": "code",
   "execution_count": 27,
   "metadata": {},
   "outputs": [
    {
     "name": "stdout",
     "output_type": "stream",
     "text": [
      "['yas.reddy@hcl.com', 'sandeep.yadaw@hcl.com']\n"
     ]
    }
   ],
   "source": [
    "# Lets say I want to match only hcl mailid\n",
    "s=\" yas824@gmail.com and yas.reddy@hcl.com sandeep.yadaw@hcl.com and sandeep@gmail.com\"\n",
    "ans=re.findall('[a-zA-Z]+\\.[a-zA-Z]+@[a-z]+\\.[a-z]+',s)\n",
    "print(ans)\n"
   ]
  },
  {
   "cell_type": "code",
   "execution_count": null,
   "metadata": {},
   "outputs": [],
   "source": []
  }
 ],
 "metadata": {
  "kernelspec": {
   "display_name": "Python 3",
   "language": "python",
   "name": "python3"
  },
  "language_info": {
   "codemirror_mode": {
    "name": "ipython",
    "version": 3
   },
   "file_extension": ".py",
   "mimetype": "text/x-python",
   "name": "python",
   "nbconvert_exporter": "python",
   "pygments_lexer": "ipython3",
   "version": "3.8.5"
  }
 },
 "nbformat": 4,
 "nbformat_minor": 4
}
