{
 "cells": [
  {
   "cell_type": "markdown",
   "metadata": {},
   "source": [
    "# polymorphism in python"
   ]
  },
  {
   "cell_type": "code",
   "execution_count": 1,
   "metadata": {},
   "outputs": [
    {
     "name": "stdout",
     "output_type": "stream",
     "text": [
      "polymorphism in python\n"
     ]
    }
   ],
   "source": [
    "'''\n",
    "\n",
    "In Python, Polymorphism lets us define methods in the child class that have the same name as the methods in the parent class. \n",
    "In inheritance, the child class inherits the methods from the parent class. \n",
    "However, it is possible to modify a method in a child class that it has inherited from the parent class. \n",
    "This is particularly useful in cases where the method inherited from the parent class doesn’t quite fit the child class.\n",
    "In such cases, we re-implement the method in the child class. \n",
    "This process of re-implementing a method in the child class is known as Method Overriding. \n",
    " \n",
    "\n",
    "'''\n",
    "\n",
    "print(\"polymorphism in python\")"
   ]
  },
  {
   "cell_type": "code",
   "execution_count": null,
   "metadata": {},
   "outputs": [],
   "source": []
  }
 ],
 "metadata": {
  "kernelspec": {
   "display_name": "Python 3",
   "language": "python",
   "name": "python3"
  },
  "language_info": {
   "codemirror_mode": {
    "name": "ipython",
    "version": 3
   },
   "file_extension": ".py",
   "mimetype": "text/x-python",
   "name": "python",
   "nbconvert_exporter": "python",
   "pygments_lexer": "ipython3",
   "version": "3.8.5"
  }
 },
 "nbformat": 4,
 "nbformat_minor": 4
}
