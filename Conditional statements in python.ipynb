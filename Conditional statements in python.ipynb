{
 "cells": [
  {
   "cell_type": "markdown",
   "metadata": {},
   "source": [
    "# Conditional statements in python"
   ]
  },
  {
   "cell_type": "code",
   "execution_count": 11,
   "metadata": {},
   "outputs": [
    {
     "name": "stdout",
     "output_type": "stream",
     "text": [
      "Enter the age of a person : 22\n",
      "Eligible to Vote\n"
     ]
    }
   ],
   "source": [
    "n=int(input(\"Enter the age of a person : \"))\n",
    "if(n>=18):\n",
    "    print(\"Eligible to Vote\")\n",
    "else:\n",
    "    print(\"Not Eligible to Vote\")"
   ]
  },
  {
   "cell_type": "code",
   "execution_count": 10,
   "metadata": {},
   "outputs": [
    {
     "name": "stdout",
     "output_type": "stream",
     "text": [
      "Enter three numbers seperated by spaces in between them\n",
      "20 30 40\n",
      "-------------------------------------------\n",
      "40  is greatest element out of three\n"
     ]
    }
   ],
   "source": [
    "print(\"Enter three numbers seperated by spaces in between them\")\n",
    "a,b,c=map(int,input().split())\n",
    "if(a>b and a>c):\n",
    "    print(\"-------------------------------------------\")\n",
    "    print(a,\" is greatest element out of three\")\n",
    "elif (b>a and b>c):\n",
    "    print(\"-------------------------------------------\")\n",
    "    print(b,\" is greatest element out of three\")\n",
    "else:\n",
    "    print(\"-------------------------------------------\")\n",
    "    print(c,\" is greatest element out of three\")\n",
    "    \n"
   ]
  },
  {
   "cell_type": "code",
   "execution_count": null,
   "metadata": {},
   "outputs": [],
   "source": []
  }
 ],
 "metadata": {
  "kernelspec": {
   "display_name": "Python 3",
   "language": "python",
   "name": "python3"
  },
  "language_info": {
   "codemirror_mode": {
    "name": "ipython",
    "version": 3
   },
   "file_extension": ".py",
   "mimetype": "text/x-python",
   "name": "python",
   "nbconvert_exporter": "python",
   "pygments_lexer": "ipython3",
   "version": "3.8.5"
  }
 },
 "nbformat": 4,
 "nbformat_minor": 4
}
