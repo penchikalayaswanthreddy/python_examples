{
 "cells": [
  {
   "cell_type": "markdown",
   "metadata": {},
   "source": [
    "# Recursion in python"
   ]
  },
  {
   "cell_type": "code",
   "execution_count": 2,
   "metadata": {},
   "outputs": [
    {
     "name": "stdout",
     "output_type": "stream",
     "text": [
      "24\n"
     ]
    }
   ],
   "source": [
    "# sample program to explain recursion in python\n",
    "def find_factorial(n):\n",
    "    if (n==0):\n",
    "        return 1\n",
    "    elif (n==1):\n",
    "        return 1\n",
    "    else:\n",
    "        return n*find_factorial(n-1)\n",
    "ans=find_factorial(4)\n",
    "print(ans)"
   ]
  },
  {
   "cell_type": "code",
   "execution_count": 9,
   "metadata": {},
   "outputs": [
    {
     "name": "stdout",
     "output_type": "stream",
     "text": [
      "32\n"
     ]
    }
   ],
   "source": [
    "# To find power of a number using recursion\n",
    "def find_power (base, exponent):\n",
    "    if (exponent==0):\n",
    "        return 1\n",
    "    elif (exponent==1):\n",
    "        return base\n",
    "    else:\n",
    "        return (base*find_power(base,exponent-1))\n",
    "ans=find_power(2,5)\n",
    "print(ans)"
   ]
  },
  {
   "cell_type": "code",
   "execution_count": null,
   "metadata": {},
   "outputs": [],
   "source": []
  }
 ],
 "metadata": {
  "kernelspec": {
   "display_name": "Python 3",
   "language": "python",
   "name": "python3"
  },
  "language_info": {
   "codemirror_mode": {
    "name": "ipython",
    "version": 3
   },
   "file_extension": ".py",
   "mimetype": "text/x-python",
   "name": "python",
   "nbconvert_exporter": "python",
   "pygments_lexer": "ipython3",
   "version": "3.8.5"
  }
 },
 "nbformat": 4,
 "nbformat_minor": 4
}
