{
 "cells": [
  {
   "cell_type": "markdown",
   "metadata": {},
   "source": [
    "# Random Module in python"
   ]
  },
  {
   "cell_type": "code",
   "execution_count": 1,
   "metadata": {},
   "outputs": [],
   "source": [
    "import random"
   ]
  },
  {
   "cell_type": "code",
   "execution_count": 2,
   "metadata": {},
   "outputs": [
    {
     "name": "stdout",
     "output_type": "stream",
     "text": [
      "0.3985429201826376\n"
     ]
    }
   ],
   "source": [
    "# I want to generate a random floating point random number in the range (0,1)\n",
    "num= random.random()\n",
    "print(num)"
   ]
  },
  {
   "cell_type": "code",
   "execution_count": 6,
   "metadata": {},
   "outputs": [
    {
     "name": "stdout",
     "output_type": "stream",
     "text": [
      "23.338471100232777\n"
     ]
    }
   ],
   "source": [
    "# I want to generate a floating point number in a certain range\n",
    "num=random.uniform(20,30)\n",
    "print(num)"
   ]
  },
  {
   "cell_type": "code",
   "execution_count": 7,
   "metadata": {},
   "outputs": [
    {
     "name": "stdout",
     "output_type": "stream",
     "text": [
      "5125\n"
     ]
    }
   ],
   "source": [
    "# I want to generate a random Integer number in certain range\n",
    "num=random.randint(1000,9999)\n",
    "print(num)"
   ]
  },
  {
   "cell_type": "code",
   "execution_count": 12,
   "metadata": {},
   "outputs": [
    {
     "name": "stdout",
     "output_type": "stream",
     "text": [
      "['Williamson', 'Pant', 'Rohit', 'Samson', 'Dhoni', 'Morgan', 'Kohli', 'Kl Rahul']\n"
     ]
    }
   ],
   "source": [
    "#If we want to shuffle the contents in the List\n",
    "li=[\"Dhoni\",\"Kohli\",\"Pant\",\"Kl Rahul\",\"Samson\",\"Morgan\",\"Williamson\",\"Rohit\"]\n",
    "random.shuffle(li)\n",
    "print(li)"
   ]
  },
  {
   "cell_type": "code",
   "execution_count": 18,
   "metadata": {},
   "outputs": [
    {
     "name": "stdout",
     "output_type": "stream",
     "text": [
      "56\n"
     ]
    }
   ],
   "source": [
    "# If you want to select an Item Randomly from a List\n",
    "li=[10,15,43,50,56,76,96]\n",
    "num=random.choice(li)\n",
    "print(num)"
   ]
  },
  {
   "cell_type": "code",
   "execution_count": 20,
   "metadata": {},
   "outputs": [
    {
     "name": "stdout",
     "output_type": "stream",
     "text": [
      "['Dhoni', 'Williamson']\n"
     ]
    }
   ],
   "source": [
    "# If you want to select \"n\" number of items randomly from a List\n",
    "li=[\"Dhoni\",\"Kohli\",\"Pant\",\"Kl Rahul\",\"Samson\",\"Morgan\",\"Williamson\",\"Rohit\"]\n",
    "ans=random.choices(li,k=2)\n",
    "print(ans)\n"
   ]
  },
  {
   "cell_type": "code",
   "execution_count": 21,
   "metadata": {},
   "outputs": [
    {
     "name": "stdout",
     "output_type": "stream",
     "text": [
      "Random Module in pyhton\n"
     ]
    }
   ],
   "source": [
    "'''\n",
    "Function                              What it does\n",
    "-----------------------          ------------------------------------------------------------------------\n",
    "randint(x, y)                   Generates a random integer from x to y, including the x and y.\n",
    "\n",
    "randrange(start, stop, step)    Generates a random integer in the range(start, stop, step)\n",
    "\n",
    "random()                        Generates a random floating-point number in the interval [0,1)\n",
    "\n",
    "uniform(x, y)                   It generates a floating-point value between x and y. \n",
    "\n",
    "sample(population, k)           Selects k unique random elements from a population sequence or set.\n",
    "\n",
    "choice(seq)                     Chooses a random element from a non-empty sequence seq.\n",
    "\n",
    "shuffle(x)                      Shuffles list x in place.\n",
    "\n",
    "seed(x)                         Generates the same sequence of random numbers every time you call seed(x).\n",
    "\n",
    "\n",
    "\n",
    "'''\n",
    "print(\"Random Module in pyhton\")"
   ]
  },
  {
   "cell_type": "code",
   "execution_count": 35,
   "metadata": {},
   "outputs": [
    {
     "name": "stdout",
     "output_type": "stream",
     "text": [
      "0.9560342718892494\n",
      "0.9560342718892494\n",
      "0.9560342718892494\n",
      "0.9560342718892494\n",
      "0.9560342718892494\n"
     ]
    }
   ],
   "source": [
    "for i in range(5):\n",
    "    random.seed(2)\n",
    "    print(random.random())"
   ]
  },
  {
   "cell_type": "code",
   "execution_count": null,
   "metadata": {},
   "outputs": [],
   "source": []
  },
  {
   "cell_type": "code",
   "execution_count": null,
   "metadata": {},
   "outputs": [],
   "source": []
  }
 ],
 "metadata": {
  "kernelspec": {
   "display_name": "Python 3",
   "language": "python",
   "name": "python3"
  },
  "language_info": {
   "codemirror_mode": {
    "name": "ipython",
    "version": 3
   },
   "file_extension": ".py",
   "mimetype": "text/x-python",
   "name": "python",
   "nbconvert_exporter": "python",
   "pygments_lexer": "ipython3",
   "version": "3.8.5"
  }
 },
 "nbformat": 4,
 "nbformat_minor": 4
}
