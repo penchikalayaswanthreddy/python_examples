{
 "cells": [
  {
   "cell_type": "markdown",
   "metadata": {},
   "source": [
    "# Loops in python\n"
   ]
  },
  {
   "cell_type": "code",
   "execution_count": 8,
   "metadata": {},
   "outputs": [
    {
     "name": "stdout",
     "output_type": "stream",
     "text": [
      "Enter the number upto which you want to print the numbers : 5\n",
      "1 2 3 4 5 "
     ]
    }
   ],
   "source": [
    "# for loops in python:\n",
    "# The range function by default takes the starting position as zero , so we need to explicitly change it if we want to change it.\n",
    "n=int(input(\"Enter the number upto which you want to print the numbers : \"))\n",
    "for i in range(1,n+1):\n",
    "    print(i,end=\" \")\n"
   ]
  },
  {
   "cell_type": "code",
   "execution_count": 12,
   "metadata": {
    "scrolled": true
   },
   "outputs": [
    {
     "name": "stdout",
     "output_type": "stream",
     "text": [
      "Enter the number upto which you want to print the numbers : 5\n",
      "1 2 3 4 5 \n",
      "The for loop sucessfuly executed completely with out any break\n"
     ]
    }
   ],
   "source": [
    "# we can also include optional else block after for loop.\n",
    "n=int(input(\"Enter the number upto which you want to print the numbers : \"))\n",
    "for i in range(1,n+1):\n",
    "    print(i,end=\" \")\n",
    "else:\n",
    "    print(\"\\nThe for loop sucessfuly executed completely with out any break\")\n"
   ]
  },
  {
   "cell_type": "code",
   "execution_count": 15,
   "metadata": {},
   "outputs": [
    {
     "name": "stdout",
     "output_type": "stream",
     "text": [
      "Enter the number upto which you want to print the numbers : 5\n",
      "1 2 3 4 "
     ]
    }
   ],
   "source": [
    "n=int(input(\"Enter the number upto which you want to print the numbers : \"))\n",
    "for i in range(1,n+1):\n",
    "    print(i,end=\" \")\n",
    "    if(i==4):\n",
    "        break\n",
    "else:\n",
    "    print(\"\\nThe for loop sucessfuly executed completely with out any break\")\n"
   ]
  },
  {
   "cell_type": "code",
   "execution_count": null,
   "metadata": {},
   "outputs": [],
   "source": [
    "# while Loop"
   ]
  },
  {
   "cell_type": "code",
   "execution_count": 17,
   "metadata": {},
   "outputs": [
    {
     "name": "stdout",
     "output_type": "stream",
     "text": [
      "Enter the value of the number aupto which you want to print the numbers :5\n",
      "1 2 3 4 5 "
     ]
    }
   ],
   "source": [
    "n=int(input(\"Enter the value of the number aupto which you want to print the numbers :\"))\n",
    "count=1\n",
    "while(count<=n):\n",
    "    print(count,end=\" \")\n",
    "    count=count+1\n"
   ]
  },
  {
   "cell_type": "code",
   "execution_count": 20,
   "metadata": {},
   "outputs": [
    {
     "name": "stdout",
     "output_type": "stream",
     "text": [
      "Enter the value of the number aupto which you want to print the numbers :5\n",
      "1 2 3 4 5 \n",
      "The while Loop has executed successfully for all values\n"
     ]
    }
   ],
   "source": [
    "# same as for loop we can also have a optional else block even after while loop\n",
    "n=int(input(\"Enter the value of the number aupto which you want to print the numbers :\"))\n",
    "count=1\n",
    "while(count<=n):\n",
    "    print(count,end=\" \")\n",
    "    count=count+1\n",
    "else:\n",
    "    print(\"\\nThe while Loop has executed successfully for all values\")\n"
   ]
  },
  {
   "cell_type": "code",
   "execution_count": 21,
   "metadata": {},
   "outputs": [
    {
     "name": "stdout",
     "output_type": "stream",
     "text": [
      "Enter the value of the number aupto which you want to print the numbers :5\n",
      "1 2 3 4 "
     ]
    }
   ],
   "source": [
    "n=int(input(\"Enter the value of the number aupto which you want to print the numbers :\"))\n",
    "count=1\n",
    "while(count<=n):\n",
    "    print(count,end=\" \")\n",
    "    if(count==4):\n",
    "        break\n",
    "    count=count+1\n",
    "else:\n",
    "    print(\"\\nThe while Loop has executed successfully for all values\")\n"
   ]
  },
  {
   "cell_type": "code",
   "execution_count": null,
   "metadata": {},
   "outputs": [],
   "source": []
  }
 ],
 "metadata": {
  "kernelspec": {
   "display_name": "Python 3",
   "language": "python",
   "name": "python3"
  },
  "language_info": {
   "codemirror_mode": {
    "name": "ipython",
    "version": 3
   },
   "file_extension": ".py",
   "mimetype": "text/x-python",
   "name": "python",
   "nbconvert_exporter": "python",
   "pygments_lexer": "ipython3",
   "version": "3.8.5"
  }
 },
 "nbformat": 4,
 "nbformat_minor": 4
}
