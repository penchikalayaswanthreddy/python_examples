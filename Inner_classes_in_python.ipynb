{
 "cells": [
  {
   "cell_type": "markdown",
   "metadata": {},
   "source": [
    "# Inner Classes in python"
   ]
  },
  {
   "cell_type": "code",
   "execution_count": 11,
   "metadata": {},
   "outputs": [
    {
     "name": "stdout",
     "output_type": "stream",
     "text": [
      "outerclass init method\n",
      "Inner class init method\n",
      "This is Inner class method\n"
     ]
    }
   ],
   "source": [
    "class outer:\n",
    "    def __init__(self):\n",
    "        print(\"outerclass init method\")\n",
    "        self.inner=self.Inner() # This is one way of creating objects of Inner class\n",
    "        \n",
    "    def outerclass_method(self):\n",
    "        print(\"This is outer class method\")\n",
    "        \n",
    "    class Inner:\n",
    "        \n",
    "        def __init__(self):\n",
    "                print(\"Inner class init method\")\n",
    "                \n",
    "        def innerclass_method(self):\n",
    "                print(\"This is Inner class method\")\n",
    "o=outer()\n",
    "o.inner.innerclass_method() # object.Innerclass_reference_variable.method --> Syntax for calling Inner class method\n",
    "        "
   ]
  },
  {
   "cell_type": "code",
   "execution_count": 16,
   "metadata": {},
   "outputs": [
    {
     "name": "stdout",
     "output_type": "stream",
     "text": [
      "outerclass init method\n",
      "Inner class init method\n",
      "outerclass init method\n",
      "Inner class init method\n"
     ]
    }
   ],
   "source": [
    "class outer:\n",
    "    def __init__(self):\n",
    "        print(\"outerclass init method\")\n",
    "        \n",
    "    def outerclass_method(self):\n",
    "        print(\"This is outer class method\")\n",
    "        \n",
    "    class Inner:\n",
    "        \n",
    "        def __init__(self):\n",
    "                print(\"Inner class init method\")\n",
    "                \n",
    "        def innerclass_method(self):\n",
    "                print(\"This is Inner class method\")\n",
    "o=outer()\n",
    "i1=o.Inner()  # Another way of creating object for Inner class\n",
    "i2=outer().Inner() # creating object for Inner class using the class name of outer class"
   ]
  },
  {
   "cell_type": "code",
   "execution_count": null,
   "metadata": {},
   "outputs": [],
   "source": []
  }
 ],
 "metadata": {
  "kernelspec": {
   "display_name": "Python 3",
   "language": "python",
   "name": "python3"
  },
  "language_info": {
   "codemirror_mode": {
    "name": "ipython",
    "version": 3
   },
   "file_extension": ".py",
   "mimetype": "text/x-python",
   "name": "python",
   "nbconvert_exporter": "python",
   "pygments_lexer": "ipython3",
   "version": "3.8.5"
  }
 },
 "nbformat": 4,
 "nbformat_minor": 4
}
