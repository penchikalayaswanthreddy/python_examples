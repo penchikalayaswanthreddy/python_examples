{
 "cells": [
  {
   "cell_type": "markdown",
   "metadata": {},
   "source": [
    "# Encapsulation in python"
   ]
  },
  {
   "cell_type": "code",
   "execution_count": 15,
   "metadata": {},
   "outputs": [
    {
     "name": "stdout",
     "output_type": "stream",
     "text": [
      "Encapsulation in python\n"
     ]
    }
   ],
   "source": [
    "'''\n",
    "\n",
    "The process of wrapping up variables and methods into a single entity is known as Encapsulation. \n",
    "It is one of the underlying concepts in object-oriented programming (OOP). \n",
    "It acts as a protective shield that puts restrictions on accessing variables and methods directly,\n",
    "and can prevent accidental or unauthorized modification of data. \n",
    "Encapsulation also makes objects into more self-sufficient, independently functioning pieces.\n",
    "\n",
    "\n",
    "\n",
    "Access modifiers limit access to the variables and functions of a class. \n",
    "Python uses three types of access modifiers; they are - private, public and protected.\n",
    "\n",
    "1)Public members are accessible anywhere from the class. All the member variables of the class are by default public.\n",
    "\n",
    "2)Protected members are accessible within the class and also available to its sub-classes. \n",
    "To define a protected member, prefix the member name with a single underscore “_”.\n",
    "\n",
    "3)Private members are accessible within the class.\n",
    "To define a private member, prefix the member name with a double underscore “__”.\n",
    "\n",
    "Need for encapsulation in Python:\n",
    "\n",
    "1)Encapsulation helps to achieve well-defined, readable code.\n",
    "2)Users can securely maintain the applications.\n",
    "3)Encapsulation ensures the code’s simplicity and flexibility through proper code organization \n",
    "and assists with a smooth user experience.\n",
    "\n",
    "\n",
    "'''\n",
    "print(\"Encapsulation in python\")"
   ]
  },
  {
   "cell_type": "code",
   "execution_count": 16,
   "metadata": {},
   "outputs": [],
   "source": [
    "# Public varaibles are familar"
   ]
  },
  {
   "cell_type": "code",
   "execution_count": 17,
   "metadata": {},
   "outputs": [
    {
     "name": "stdout",
     "output_type": "stream",
     "text": [
      "Dhoni\n"
     ]
    }
   ],
   "source": [
    "class A:\n",
    "    def __init__(self,name):\n",
    "        self.name=name\n",
    "        \n",
    "    def printing(self):\n",
    "        print(self.name)\n",
    "        \n",
    "a=A(\"Dhoni\")\n",
    "a.printing()\n",
    "        "
   ]
  },
  {
   "cell_type": "code",
   "execution_count": 18,
   "metadata": {},
   "outputs": [
    {
     "name": "stdout",
     "output_type": "stream",
     "text": [
      "Dhoni\n"
     ]
    }
   ],
   "source": [
    "# Example of protected members in python\n",
    "class A:\n",
    "    def __init__(self,name):\n",
    "        self._name=name\n",
    "        \n",
    "    def _printing(self):\n",
    "        print(self._name)  # while calling protected variable we need to include the single undrescore before the varaiable.\n",
    "        \n",
    "a=A(\"Dhoni\")\n",
    "a._printing() # while calling protected method we need to include the single underscore before the method name while calling\n"
   ]
  },
  {
   "cell_type": "code",
   "execution_count": 14,
   "metadata": {},
   "outputs": [
    {
     "name": "stdout",
     "output_type": "stream",
     "text": [
      "Dhoni\n",
      "Dhoni\n",
      "Dhoni\n"
     ]
    }
   ],
   "source": [
    "# Example of private members in python\n",
    "\n",
    "class A:\n",
    "    def __init__(self,name):\n",
    "        self.__name=name\n",
    "        \n",
    "    def __printing(self):\n",
    "        print(self.__name)\n",
    "        \n",
    "    def normal(self):\n",
    "        self.__printing()\n",
    "    \n",
    "a=A(\"Dhoni\")\n",
    "a.normal()\n",
    "# a.__printing()  it will throw an error because printing is a private method\n",
    "\n",
    "a._A__printing() # This is a way of calling private method or variable from the outside of the class\n",
    "\n",
    "print(a._A__name) # calling private variable outside the class\n",
    "\n"
   ]
  },
  {
   "cell_type": "code",
   "execution_count": null,
   "metadata": {},
   "outputs": [],
   "source": []
  }
 ],
 "metadata": {
  "kernelspec": {
   "display_name": "Python 3",
   "language": "python",
   "name": "python3"
  },
  "language_info": {
   "codemirror_mode": {
    "name": "ipython",
    "version": 3
   },
   "file_extension": ".py",
   "mimetype": "text/x-python",
   "name": "python",
   "nbconvert_exporter": "python",
   "pygments_lexer": "ipython3",
   "version": "3.8.5"
  }
 },
 "nbformat": 4,
 "nbformat_minor": 4
}
