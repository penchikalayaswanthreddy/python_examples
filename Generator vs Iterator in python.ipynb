{
 "cells": [
  {
   "cell_type": "markdown",
   "metadata": {},
   "source": [
    "# Generator vs Iterator in python"
   ]
  },
  {
   "cell_type": "code",
   "execution_count": 2,
   "metadata": {},
   "outputs": [
    {
     "name": "stdout",
     "output_type": "stream",
     "text": [
      "Difference between Iterator and Generator in python\n"
     ]
    }
   ],
   "source": [
    "'''\n",
    "An iterator in Python serves as a holder for objects so that they can be iterated over;\n",
    "a generator facilitates the creation of a custom iterator.\n",
    "\n",
    "1)Generator----->Remember that a return statement terminates the execution of a function entirely,\n",
    "whereas, the yield statement saves the function state and resumes its execution, from this point, upon subsequent calls.\n",
    "\n",
    "2)Iterator-------> Two important things :\n",
    "\n",
    "                   1)The __iter__() method returns the iterator object.\n",
    "                   This is required to allow an iterator to be used with the for and in statements.\n",
    "                   \n",
    "                   2)The __next__() method returns the next element in the sequence. \n",
    "                   In the case of a finite iterator, once it reaches the end (defined by the termination condition), \n",
    "                   all of the subsequent calls to this method should should raise an exception.\n",
    "                   \n",
    "                   \n",
    "Generators in Python: \n",
    "\n",
    "There is a lot of work in building an iterator in Python. \n",
    "We have to implement a class with __iter__() and __next__() method, keep track of internal states, \n",
    "and raise StopIteration when there are no values to be returned.\n",
    "\n",
    "This is both lengthy and counterintuitive. Generator comes to the rescue in such situations.\n",
    "\n",
    "Python generators are a simple way of creating iterators. All the work we mentioned above are automatically\n",
    "handled by generators in Python.\n",
    "\n",
    "Simply speaking, a generator is a function that returns an object (iterator) which we can iterate over (one value at a time).\n",
    "\n",
    "\n",
    "Create Generators in Python:\n",
    "\n",
    "It is fairly simple to create a generator in Python. It is as easy as defining a normal function,\n",
    "but with a yield statement instead of a return statement.\n",
    "\n",
    "If a function contains at least one yield statement (it may contain other yield or return statements), \n",
    "it becomes a generator function. Both yield and return will return some value from a function.\n",
    "\n",
    "The difference is that while a return statement terminates a function entirely,\n",
    "yield statement pauses the function saving all its states and later continues from there on successive calls.\n",
    "\n",
    "Differences between Generator function and Normal function:\n",
    "\n",
    "1)Generator function contains one or more yield statements.\n",
    "\n",
    "2)When called, it returns an object (iterator) but does not start execution immediately.\n",
    "\n",
    "3)Methods like __iter__() and __next__() are implemented automatically. So we can iterate through the items using next().\n",
    "\n",
    "4)Once the function yields, the function is paused and the control is transferred to the caller.\n",
    "\n",
    "5)Local variables and their states are remembered between successive calls.\n",
    "\n",
    "6)Finally, when the function terminates, StopIteration is raised automatically on further calls.\n",
    "\n",
    "Python Generator Expression:\n",
    "\n",
    "The syntax for generator expression is similar to that of a list comprehension in Python. \n",
    "But the square brackets are replaced with round parentheses.\n",
    "\n",
    "The major difference between a list comprehension and a generator expression is that a list comprehension produces \n",
    "the entire list while the generator expression produces one item at a time.\n",
    "\n",
    "\n",
    "\n",
    "\n",
    "\n",
    "'''\n",
    "print(\"Difference between Iterator and Generator in python\")"
   ]
  },
  {
   "cell_type": "code",
   "execution_count": 5,
   "metadata": {},
   "outputs": [
    {
     "name": "stdout",
     "output_type": "stream",
     "text": [
      "[1, 4, 9, 16, 25]\n"
     ]
    }
   ],
   "source": [
    "# Normal function\n",
    "\n",
    "def find_square(li):\n",
    "    ans=[]\n",
    "    for i in li :\n",
    "        ans.append(i*i)\n",
    "    return ans\n",
    "\n",
    "res=find_square([1,2,3,4,5])\n",
    "print(res)"
   ]
  },
  {
   "cell_type": "code",
   "execution_count": 15,
   "metadata": {},
   "outputs": [
    {
     "name": "stdout",
     "output_type": "stream",
     "text": [
      "<generator object find_sqaure at 0x0000022ED9AD86D0>\n",
      "1\n",
      "4\n",
      "9\n",
      "16\n",
      "25\n"
     ]
    },
    {
     "ename": "StopIteration",
     "evalue": "",
     "output_type": "error",
     "traceback": [
      "\u001b[1;31m---------------------------------------------------------------------------\u001b[0m",
      "\u001b[1;31mStopIteration\u001b[0m                             Traceback (most recent call last)",
      "\u001b[1;32m<ipython-input-15-517f3f608380>\u001b[0m in \u001b[0;36m<module>\u001b[1;34m\u001b[0m\n\u001b[0;32m     10\u001b[0m \u001b[0mprint\u001b[0m\u001b[1;33m(\u001b[0m\u001b[0mnext\u001b[0m\u001b[1;33m(\u001b[0m\u001b[0mres\u001b[0m\u001b[1;33m)\u001b[0m\u001b[1;33m)\u001b[0m\u001b[1;33m\u001b[0m\u001b[1;33m\u001b[0m\u001b[0m\n\u001b[0;32m     11\u001b[0m \u001b[0mprint\u001b[0m\u001b[1;33m(\u001b[0m\u001b[0mnext\u001b[0m\u001b[1;33m(\u001b[0m\u001b[0mres\u001b[0m\u001b[1;33m)\u001b[0m\u001b[1;33m)\u001b[0m\u001b[1;33m\u001b[0m\u001b[1;33m\u001b[0m\u001b[0m\n\u001b[1;32m---> 12\u001b[1;33m \u001b[0mprint\u001b[0m\u001b[1;33m(\u001b[0m\u001b[0mnext\u001b[0m\u001b[1;33m(\u001b[0m\u001b[0mres\u001b[0m\u001b[1;33m)\u001b[0m\u001b[1;33m)\u001b[0m\u001b[1;33m\u001b[0m\u001b[1;33m\u001b[0m\u001b[0m\n\u001b[0m",
      "\u001b[1;31mStopIteration\u001b[0m: "
     ]
    }
   ],
   "source": [
    "\n",
    "# same program with the help of generastor\n",
    "def find_sqaure(li):\n",
    "    for i in li:\n",
    "        yield i*i\n",
    "res=find_sqaure([1,2,3,4,5]) # Here the output is generator object\n",
    "print(res)\n",
    "print(next(res))\n",
    "print(next(res))\n",
    "print(next(res))\n",
    "print(next(res))\n",
    "print(next(res))\n",
    "print(next(res)) # Here It will give an Exception"
   ]
  },
  {
   "cell_type": "code",
   "execution_count": 25,
   "metadata": {},
   "outputs": [
    {
     "name": "stdout",
     "output_type": "stream",
     "text": [
      "1\n",
      "4\n",
      "9\n",
      "16\n",
      "25\n"
     ]
    }
   ],
   "source": [
    "# To automatically handle exception we can use for loop instead of next(method)\n",
    "def find_sqaure_numbers(li):\n",
    "    for i in li:\n",
    "        yield i*i\n",
    "        \n",
    "res=find_sqaure_numbers([1,2,3,4,5])\n",
    "for i in res:\n",
    "    print(i)\n"
   ]
  },
  {
   "cell_type": "code",
   "execution_count": null,
   "metadata": {},
   "outputs": [],
   "source": []
  },
  {
   "cell_type": "code",
   "execution_count": null,
   "metadata": {},
   "outputs": [],
   "source": []
  }
 ],
 "metadata": {
  "kernelspec": {
   "display_name": "Python 3",
   "language": "python",
   "name": "python3"
  },
  "language_info": {
   "codemirror_mode": {
    "name": "ipython",
    "version": 3
   },
   "file_extension": ".py",
   "mimetype": "text/x-python",
   "name": "python",
   "nbconvert_exporter": "python",
   "pygments_lexer": "ipython3",
   "version": "3.8.5"
  }
 },
 "nbformat": 4,
 "nbformat_minor": 4
}
