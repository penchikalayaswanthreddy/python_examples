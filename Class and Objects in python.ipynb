{
 "cells": [
  {
   "cell_type": "markdown",
   "metadata": {},
   "source": [
    "# Classes and Objects in python"
   ]
  },
  {
   "cell_type": "code",
   "execution_count": 37,
   "metadata": {},
   "outputs": [
    {
     "name": "stdout",
     "output_type": "stream",
     "text": [
      "kohli\n",
      "32\n"
     ]
    }
   ],
   "source": [
    "class sample:\n",
    "    def __init__(self,name,age):\n",
    "        self.name=name\n",
    "        self.age=age\n",
    "        \n",
    "    def print_details(self):\n",
    "        print(self.name)\n",
    "        print(self.age)\n",
    "s=sample(\"kohli\",32)\n",
    "s.print_details()"
   ]
  },
  {
   "cell_type": "code",
   "execution_count": 27,
   "metadata": {},
   "outputs": [
    {
     "name": "stdout",
     "output_type": "stream",
     "text": [
      "Hello world\n"
     ]
    }
   ],
   "source": [
    "# Another way of calling methods\n",
    "class sample:\n",
    "    def __init__(self):\n",
    "        pass\n",
    "        \n",
    "    def print_details(self):\n",
    "        print(\"Hello world\")\n",
    "    \n",
    "        \n",
    "k=sample()       \n",
    "example.print_details(k)\n",
    "\n"
   ]
  },
  {
   "cell_type": "code",
   "execution_count": 28,
   "metadata": {},
   "outputs": [
    {
     "name": "stdout",
     "output_type": "stream",
     "text": [
      "dhoni\n",
      "39\n"
     ]
    }
   ],
   "source": [
    "class sample:\n",
    "    def __init__(self,name,age):\n",
    "        self.name=name\n",
    "        self.age=age\n",
    "        \n",
    "    def print_details(self):\n",
    "        print(self.name)\n",
    "        print(self.age)\n",
    "s=sample(\"dhoni\",39)\n",
    "sample.print_details(s)"
   ]
  },
  {
   "cell_type": "code",
   "execution_count": 29,
   "metadata": {},
   "outputs": [
    {
     "name": "stdout",
     "output_type": "stream",
     "text": [
      "10\n",
      "10\n"
     ]
    }
   ],
   "source": [
    "# examples of class variables and instance variables\n",
    "\n",
    "# 1)Accessing class variables in python.\n",
    "\n",
    "class sample():\n",
    "    c=10\n",
    "    def __init__(self,name):\n",
    "        self.name=name\n",
    "        \n",
    "    def print_details(self):\n",
    "        print(self.name)\n",
    "\n",
    "s=sample(\"dhoni\")\n",
    "print(sample.c) # Accessing class variable using class name\n",
    "print(s.c)      # Accessing calss variable using object refrence\n",
    "\n",
    "        \n",
    "    "
   ]
  },
  {
   "cell_type": "code",
   "execution_count": 31,
   "metadata": {},
   "outputs": [
    {
     "name": "stdout",
     "output_type": "stream",
     "text": [
      "India\n"
     ]
    }
   ],
   "source": [
    "# 2) Accessing instance variables in python\n",
    "class sample:\n",
    "    def __init__(self,country):\n",
    "        self.country=country\n",
    "        \n",
    "    def print_details(self):\n",
    "        print(self.country)\n",
    "        \n",
    "s=sample(\"India\")\n",
    "\n",
    "print(s.country)\n",
    "\n",
    "# print(sample.country) It will give an error. we cannot call instance varaiable with the help of class name"
   ]
  },
  {
   "cell_type": "code",
   "execution_count": 36,
   "metadata": {},
   "outputs": [
    {
     "name": "stdout",
     "output_type": "stream",
     "text": [
      "dhoni\n"
     ]
    }
   ],
   "source": [
    "# Note It is not Mandatory to use self Only for passing object refrence , we can even use custom words.e.g : cricket\n",
    "class A:\n",
    "    def __init__(cricket,name):\n",
    "        cricket.name=name\n",
    "    def sample(cricket):\n",
    "        print(cricket.name)\n",
    "        \n",
    "a=A(\"dhoni\")\n",
    "a.sample()"
   ]
  },
  {
   "cell_type": "code",
   "execution_count": null,
   "metadata": {},
   "outputs": [],
   "source": [
    "# Instance, Class and static methods in python"
   ]
  },
  {
   "cell_type": "code",
   "execution_count": 46,
   "metadata": {},
   "outputs": [
    {
     "name": "stdout",
     "output_type": "stream",
     "text": [
      "Sachin\n"
     ]
    }
   ],
   "source": [
    "# 1) Example of Instance Method in python\n",
    "\n",
    "class example:\n",
    "    def __init__(self,name):\n",
    "        self.name=name\n",
    "        \n",
    "    def sample(self): # Instance Method\n",
    "        print(self.name)\n",
    "        \n",
    "e=example(\"Sachin\")\n",
    "# example.sample()--we cannot call Instance method directly by class Name , But we can call by passing the instance refrence \n",
    "\n",
    "# example.sample(e) ---- This is valid because we are passing the reference \"e\"\n",
    "\n",
    "e.sample()\n"
   ]
  },
  {
   "cell_type": "code",
   "execution_count": 65,
   "metadata": {},
   "outputs": [
    {
     "name": "stdout",
     "output_type": "stream",
     "text": [
      "10\n",
      "10\n"
     ]
    }
   ],
   "source": [
    "# Example of class method in python\n",
    "\n",
    "# We can call the classmethod both with the class name and instance reference variable \n",
    "\n",
    "class example:\n",
    "    c=10\n",
    "    def __init__(self,name):\n",
    "        self.name=name\n",
    "    def sample(self):\n",
    "        print(self.name)\n",
    "        \n",
    "    @classmethod\n",
    "    def something(cls):\n",
    "        print(cls.c)\n",
    "        \n",
    "example.something()\n",
    "e=example(\"Ganguly\")\n",
    "e.something()\n",
    "\n"
   ]
  },
  {
   "cell_type": "code",
   "execution_count": null,
   "metadata": {},
   "outputs": [],
   "source": [
    "# Instance method is used when you want to deal with instance variables\n",
    "\n",
    "# Class method is used mostly when you want to deal with class variables\n",
    "\n",
    "# Static method is used when you want something to do which has nothing to do with class or Instance variables"
   ]
  },
  {
   "cell_type": "code",
   "execution_count": 77,
   "metadata": {},
   "outputs": [
    {
     "name": "stdout",
     "output_type": "stream",
     "text": [
      "hello\n",
      "hello\n"
     ]
    }
   ],
   "source": [
    "# static method example\n",
    "\n",
    "# We can call static method both with the class name and the instance reference\n",
    "\n",
    "# Generally , The static method is called by Class name\n",
    "\n",
    "class example:\n",
    "    def __init__(self,name):\n",
    "        self.name=name\n",
    "        \n",
    "    def printing(self):\n",
    "        print(self.name)\n",
    "        \n",
    "    @staticmethod     \n",
    "    def sample():\n",
    "        print(\"hello\")\n",
    "        \n",
    "e=example(\"Dhoni\")\n",
    "e.sample()\n",
    "example.sample()\n",
    "        "
   ]
  },
  {
   "cell_type": "code",
   "execution_count": null,
   "metadata": {},
   "outputs": [],
   "source": []
  }
 ],
 "metadata": {
  "kernelspec": {
   "display_name": "Python 3",
   "language": "python",
   "name": "python3"
  },
  "language_info": {
   "codemirror_mode": {
    "name": "ipython",
    "version": 3
   },
   "file_extension": ".py",
   "mimetype": "text/x-python",
   "name": "python",
   "nbconvert_exporter": "python",
   "pygments_lexer": "ipython3",
   "version": "3.8.5"
  }
 },
 "nbformat": 4,
 "nbformat_minor": 4
}
