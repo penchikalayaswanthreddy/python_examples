{
 "cells": [
  {
   "cell_type": "markdown",
   "metadata": {},
   "source": [
    "# Iterables and Iterators in python"
   ]
  },
  {
   "cell_type": "code",
   "execution_count": 2,
   "metadata": {},
   "outputs": [
    {
     "name": "stdout",
     "output_type": "stream",
     "text": [
      " Iterables and Iterators in python\n"
     ]
    }
   ],
   "source": [
    "'''\n",
    "What is an Iterable?\n",
    "\n",
    "Broadly speaking, an iterable is something that can be looped over. The process of looping over something, \n",
    "or taking each item of it, one after another, is iteration. For example, when we use a for loop to loop over a list,\n",
    "the process of looping over this list is iteration (or we are iterating over this list), and the list is the iterable.\n",
    "Tuples, dictionaries, strings, files, and generators are also iterables, as they can also be iterated over.\n",
    "\n",
    "\n",
    "But what makes something an iterable?\n",
    "\n",
    "In other words, what makes something capable of being iterated over, such as in a for loop? \n",
    "To be an iterable, an object will have an iter() method. So if an object has an iter() method,\n",
    "then it is an iterable, and thus we can use a for loop to loop over it.\n",
    "\n",
    "Technically, if an object has a getitem() method it can also be an iterable. \n",
    "However, we will focus on the iter() method here as that is the newer protocol for iteration in python.\n",
    "\n",
    "So what does this __iter__() method do?\n",
    "\n",
    "An __iter__() method will return an iterator object. To loop over an iterable, such as a list,\n",
    "we don’t usually do that manually. For example, a for loop first calls the __iter__() method on our object\n",
    "which returns an iterator object. The for loop then loops over this iterator. All of this is done in the background.\n",
    "\n",
    "\n",
    "\n",
    "What is an Iterator?\n",
    "A list is an iterable. But it is not an iterator. If we run the __iter__() method on our list,\n",
    "it will return an iterator. An iterator is an object with a state that remembers where it is during iteration. \n",
    "Iterators also know how to get their next value. They get their next value with a __next__() method.\n",
    "Thus, to know if an object is an iterator, we can check if it has a __next__() method.\n",
    "\n",
    "What does the __next__() method do?\n",
    "\n",
    "Calling the __next__() method on an iterator will return the next value in the iteration.\n",
    "Thus, calling the __next__() method on the iterator we created from num_list, or num_list_iterator, \n",
    "will return the first value in our iterator. Calling the __next__() method on that same iterator will then return\n",
    "the second value in our iterator (remember that iterators have a state which remembers where it is during iteration).\n",
    "Once we’ve went through all the values of our iterator, calling the __next__() method again on our iterator will\n",
    "result in a StopIteration error, since our iterator has now been exhausted. Once an iterator is exhausted, \n",
    "we must make a new iterator via the __iter__() method of the iterable.\n",
    "\n",
    "How does a for loop work?\n",
    "A for loop works by doing the above in the background. \n",
    "Using a for loop to loop over a list (or other iterable) begins with it first creating an iterator object\n",
    "via the __iter__() method, then calling the __next__() method on that iterator, returning the values until it returns \n",
    "a StopIteration error (that it does not show to us), which lets it know that the iterator has been exhausted \n",
    "since there are no more values left in the iterator. \n",
    "\n",
    "\n",
    "Conclusion:\n",
    "\n",
    "In this tutorial, we discussed what iteration, iterables, and iterators all mean.\n",
    "We learned how an iterable is an object that has an __iter__() method, which will create an iterator object.\n",
    "We also learned that an iterator is an object that has a state which remembers where it is during iteration, \n",
    "and that they know how to get their next value via their __next__() method. \n",
    "Finally, we saw how being able to identify an object as an iterable \n",
    "\n",
    "\n",
    "\n",
    "\n",
    "\n",
    "\n",
    "\n",
    "\n",
    "'''\n",
    "print(\" Iterables and Iterators in python\")"
   ]
  },
  {
   "cell_type": "code",
   "execution_count": 3,
   "metadata": {},
   "outputs": [],
   "source": [
    "li=[1,2,3,4,5]\n"
   ]
  },
  {
   "cell_type": "code",
   "execution_count": 9,
   "metadata": {},
   "outputs": [],
   "source": [
    "li=iter(li)"
   ]
  },
  {
   "cell_type": "code",
   "execution_count": 10,
   "metadata": {},
   "outputs": [
    {
     "name": "stdout",
     "output_type": "stream",
     "text": [
      "1\n"
     ]
    }
   ],
   "source": [
    "print(next(li))"
   ]
  },
  {
   "cell_type": "code",
   "execution_count": 11,
   "metadata": {},
   "outputs": [
    {
     "data": {
      "text/plain": [
       "2"
      ]
     },
     "execution_count": 11,
     "metadata": {},
     "output_type": "execute_result"
    }
   ],
   "source": [
    "li.__next__()"
   ]
  },
  {
   "cell_type": "code",
   "execution_count": 12,
   "metadata": {},
   "outputs": [
    {
     "name": "stdout",
     "output_type": "stream",
     "text": [
      "3\n"
     ]
    }
   ],
   "source": [
    "print(next(li))"
   ]
  },
  {
   "cell_type": "code",
   "execution_count": 13,
   "metadata": {},
   "outputs": [
    {
     "name": "stdout",
     "output_type": "stream",
     "text": [
      "4\n",
      "5\n"
     ]
    }
   ],
   "source": [
    "print(next(li))\n",
    "print(next(li))"
   ]
  },
  {
   "cell_type": "code",
   "execution_count": 14,
   "metadata": {},
   "outputs": [
    {
     "ename": "StopIteration",
     "evalue": "",
     "output_type": "error",
     "traceback": [
      "\u001b[1;31m---------------------------------------------------------------------------\u001b[0m",
      "\u001b[1;31mStopIteration\u001b[0m                             Traceback (most recent call last)",
      "\u001b[1;32m<ipython-input-14-06a63cd24602>\u001b[0m in \u001b[0;36m<module>\u001b[1;34m\u001b[0m\n\u001b[1;32m----> 1\u001b[1;33m \u001b[0mprint\u001b[0m\u001b[1;33m(\u001b[0m\u001b[0mnext\u001b[0m\u001b[1;33m(\u001b[0m\u001b[0mli\u001b[0m\u001b[1;33m)\u001b[0m\u001b[1;33m)\u001b[0m\u001b[1;33m\u001b[0m\u001b[1;33m\u001b[0m\u001b[0m\n\u001b[0m",
      "\u001b[1;31mStopIteration\u001b[0m: "
     ]
    }
   ],
   "source": [
    "print(next(li))"
   ]
  },
  {
   "cell_type": "code",
   "execution_count": 15,
   "metadata": {},
   "outputs": [],
   "source": [
    "li1=[1,2,3,4,5]\n",
    "ans=li1.__iter__() # Another way of cretaing Iterator object"
   ]
  },
  {
   "cell_type": "code",
   "execution_count": 17,
   "metadata": {},
   "outputs": [
    {
     "name": "stdout",
     "output_type": "stream",
     "text": [
      "1\n"
     ]
    }
   ],
   "source": [
    "print(next(ans))"
   ]
  },
  {
   "cell_type": "code",
   "execution_count": 18,
   "metadata": {},
   "outputs": [
    {
     "name": "stdout",
     "output_type": "stream",
     "text": [
      "2\n"
     ]
    }
   ],
   "source": [
    "print(next(ans))"
   ]
  },
  {
   "cell_type": "code",
   "execution_count": 19,
   "metadata": {},
   "outputs": [],
   "source": [
    "# Like List comprehensions we also have generator comprehensions\n",
    "\n",
    "li=[1,2,3,4,5]\n",
    "g=(i*i for i in li if i%2==0)"
   ]
  },
  {
   "cell_type": "code",
   "execution_count": 20,
   "metadata": {},
   "outputs": [
    {
     "name": "stdout",
     "output_type": "stream",
     "text": [
      "<generator object <genexpr> at 0x000002BCF75787B0>\n"
     ]
    }
   ],
   "source": [
    "print(g)"
   ]
  },
  {
   "cell_type": "code",
   "execution_count": 21,
   "metadata": {},
   "outputs": [
    {
     "name": "stdout",
     "output_type": "stream",
     "text": [
      "4\n"
     ]
    }
   ],
   "source": [
    "print(next(g))"
   ]
  },
  {
   "cell_type": "code",
   "execution_count": 22,
   "metadata": {},
   "outputs": [
    {
     "name": "stdout",
     "output_type": "stream",
     "text": [
      "16\n"
     ]
    }
   ],
   "source": [
    "print(next(g))"
   ]
  },
  {
   "cell_type": "code",
   "execution_count": 23,
   "metadata": {},
   "outputs": [
    {
     "ename": "StopIteration",
     "evalue": "",
     "output_type": "error",
     "traceback": [
      "\u001b[1;31m---------------------------------------------------------------------------\u001b[0m",
      "\u001b[1;31mStopIteration\u001b[0m                             Traceback (most recent call last)",
      "\u001b[1;32m<ipython-input-23-1dfb29d6357e>\u001b[0m in \u001b[0;36m<module>\u001b[1;34m\u001b[0m\n\u001b[1;32m----> 1\u001b[1;33m \u001b[0mprint\u001b[0m\u001b[1;33m(\u001b[0m\u001b[0mnext\u001b[0m\u001b[1;33m(\u001b[0m\u001b[0mg\u001b[0m\u001b[1;33m)\u001b[0m\u001b[1;33m)\u001b[0m\u001b[1;33m\u001b[0m\u001b[1;33m\u001b[0m\u001b[0m\n\u001b[0m",
      "\u001b[1;31mStopIteration\u001b[0m: "
     ]
    }
   ],
   "source": [
    "print(next(g))"
   ]
  },
  {
   "cell_type": "code",
   "execution_count": null,
   "metadata": {},
   "outputs": [],
   "source": []
  }
 ],
 "metadata": {
  "kernelspec": {
   "display_name": "Python 3",
   "language": "python",
   "name": "python3"
  },
  "language_info": {
   "codemirror_mode": {
    "name": "ipython",
    "version": 3
   },
   "file_extension": ".py",
   "mimetype": "text/x-python",
   "name": "python",
   "nbconvert_exporter": "python",
   "pygments_lexer": "ipython3",
   "version": "3.8.5"
  }
 },
 "nbformat": 4,
 "nbformat_minor": 4
}
