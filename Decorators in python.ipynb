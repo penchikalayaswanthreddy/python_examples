{
 "cells": [
  {
   "cell_type": "markdown",
   "metadata": {},
   "source": [
    "# Decorators in python"
   ]
  },
  {
   "cell_type": "code",
   "execution_count": null,
   "metadata": {},
   "outputs": [],
   "source": [
    "'''\n",
    "Decorators are a very powerful and useful tool in Python since it allows programmers to modify the behaviour of function\n",
    "or class. \n",
    "Decorators allow us to wrap another function in order to extend the behaviour of the wrapped function, \n",
    "without permanently modifying it. \n",
    "\n",
    "In Python, functions are first class objects that mean that functions in Python can be used or passed as arguments.\n",
    "\n",
    "Properties of first class functions:\n",
    " \n",
    "A function is an instance of the Object type.\n",
    "You can store the function in a variable.\n",
    "You can pass the function as a parameter to another function.\n",
    "You can return the function from a function.\n",
    "You can store them in data structures such as hash tables, lists, …\n",
    "\n",
    "\n",
    "\n",
    "\n",
    "\n",
    "'''\n",
    "print(\"Decorators in python\")"
   ]
  },
  {
   "cell_type": "code",
   "execution_count": 1,
   "metadata": {},
   "outputs": [
    {
     "name": "stdout",
     "output_type": "stream",
     "text": [
      "This is sample function\n"
     ]
    }
   ],
   "source": [
    "def sample():\n",
    "    print(\"This is sample function\")\n",
    "    \n",
    "a=sample\n",
    "a()"
   ]
  },
  {
   "cell_type": "code",
   "execution_count": 2,
   "metadata": {},
   "outputs": [
    {
     "name": "stdout",
     "output_type": "stream",
     "text": [
      "9\n"
     ]
    }
   ],
   "source": [
    "def sample(a,b,c):\n",
    "    print(a+b+c)\n",
    "a=sample\n",
    "a(2,3,4)"
   ]
  },
  {
   "cell_type": "code",
   "execution_count": 10,
   "metadata": {},
   "outputs": [
    {
     "name": "stdout",
     "output_type": "stream",
     "text": [
      "This is outer function\n",
      "This is inner function\n",
      "something\n"
     ]
    }
   ],
   "source": [
    "def outer_function():\n",
    "    print(\"This is outer function\")\n",
    "    def inner_function():\n",
    "        print(\"This is inner function\")\n",
    "        return \"something\"\n",
    "    return inner_function()\n",
    "\n",
    "ans=outer_function()\n",
    "print(ans)"
   ]
  },
  {
   "cell_type": "code",
   "execution_count": 13,
   "metadata": {},
   "outputs": [
    {
     "name": "stdout",
     "output_type": "stream",
     "text": [
      "2.0\n"
     ]
    }
   ],
   "source": [
    "def division(a,b):\n",
    "    print(a/b)\n",
    "    \n",
    "def decorate_division(func):\n",
    "    \n",
    "    def inner(a,b):\n",
    "        if(a<b):\n",
    "            func(b,a)\n",
    "        else:\n",
    "            func(a,b)\n",
    "    return inner\n",
    "\n",
    "division=decorate_division(division)\n",
    "division(2,4)"
   ]
  },
  {
   "cell_type": "code",
   "execution_count": null,
   "metadata": {},
   "outputs": [],
   "source": [
    "# If you want to make some modifications or add some features to a function , without originally changing Its Conetent\n",
    "\n",
    "# We can do that with the help of decorators"
   ]
  },
  {
   "cell_type": "code",
   "execution_count": 16,
   "metadata": {},
   "outputs": [
    {
     "name": "stdout",
     "output_type": "stream",
     "text": [
      "2.0\n"
     ]
    }
   ],
   "source": [
    "# Alternate way of calling Decorators using @symbol\n",
    "@decorate_division\n",
    "def division(a,b):\n",
    "    print(a/b)\n",
    "    \n",
    "def decorate_division(func):\n",
    "    \n",
    "    def inner(a,b):\n",
    "        if(a<b):\n",
    "            func(b,a)\n",
    "        else:\n",
    "            func(a,b)\n",
    "    return inner\n",
    "\n",
    "# division=decorate_division(division)\n",
    "division(2,4)"
   ]
  },
  {
   "cell_type": "code",
   "execution_count": 17,
   "metadata": {},
   "outputs": [],
   "source": [
    "# For a beginner before stepping out into waht decorator is,It is better to understand what is a Firstclass Functions in python\n",
    "# And Also what is a Closure in python"
   ]
  },
  {
   "cell_type": "code",
   "execution_count": 18,
   "metadata": {},
   "outputs": [
    {
     "name": "stdout",
     "output_type": "stream",
     "text": [
      "First Class Functions in python\n"
     ]
    }
   ],
   "source": [
    "'''\n",
    "\"what are First class Objects?.........\"\n",
    "\n",
    "In different programming languages, First Class objects are those objects, which can be handled uniformly. \n",
    "First Class objects can be stored as Data Structures, as some parameters of some other functions, \n",
    "as control structures etc. We can say that a function in Python is First Class Function, \n",
    "if it supports all of the properties of a First Class object.\n",
    "\n",
    "What are the properties of First Class Functions?\n",
    "\n",
    "1)It is an instance of an Object type\n",
    "\n",
    "2)Functions can be stored as variable\n",
    "\n",
    "3)Pass First Class Function as argument of some other functions\n",
    "\n",
    "4)Return Functions from other function\n",
    "\n",
    "5)Store Functions in lists, sets or some other data structures.\n",
    "\n",
    "\n",
    "\n",
    "'''\n",
    "print(\"First Class Functions in python\")"
   ]
  },
  {
   "cell_type": "code",
   "execution_count": 19,
   "metadata": {},
   "outputs": [
    {
     "name": "stdout",
     "output_type": "stream",
     "text": [
      "Closures in python\n"
     ]
    }
   ],
   "source": [
    "'''\n",
    "What are Closures in Python?\n",
    "\n",
    "Like nested loops, we can also nest functions. That said, Python gives us the power to define functions within functions.\n",
    "\n",
    "Python Closures are these inner functions that are enclosed within the outer function. \n",
    "Closures can access variables present in the outer function scope. \n",
    "It can access these variables even after the outer function has completed its execution.\n",
    "\n",
    "To get a better understanding of closures, let’s first see how scope works in nested functions.\n",
    "\n",
    "\n",
    "Scope of Variables in Nested Functions\n",
    "\n",
    "In Python nested functions, the enclosed function can access variables of the enclosing scope.\n",
    "\n",
    "\n",
    "def outer(name):\n",
    "    # this is the enclosing function\n",
    "    def inner():\n",
    "        # this is the enclosed function\n",
    "        # the inner function accessing the outer function's variable 'name'\n",
    "        print(name)\n",
    "    inner()\n",
    "# call the enclosing function\n",
    "outer('TechVidvan')\n",
    "-------------------------------------------------------------------------------------------------------------\n",
    "\n",
    "Output:\n",
    "\n",
    "TechVidvan\n",
    "\n",
    "----------------------------------------------------------------------------------------------------------------\n",
    "\n",
    "When the outer function gets called, the variable ‘name’ gets the value ‘TechVidvan’. \n",
    "The inner function can access the value of this variable. When the inner function gets called, ‘Techvidvan’ gets printed.\n",
    "This is how scope works in nested functions.\n",
    "\n",
    "The bottom line is – “Enclosed functions can access the variables of enclosing functions.”\n",
    "\n",
    "\n",
    "In the example above, we have called the inner function inside the outer function.\n",
    "The inner function becomes a closure when we return the inner function instead of calling it.\n",
    "\n",
    "\n",
    "\n",
    "---------->So we have a closure in Python if:\n",
    "\n",
    "\n",
    "1)We have a nested function, i.e. function within a function\n",
    "2)The nested function refers to a variable of the outer function\n",
    "3)The enclosing function returns the enclosed function\n",
    "\n",
    "\n",
    "For Example:\n",
    "\n",
    "def outer(name):\n",
    "    # this is the enclosing function\n",
    "    def inner():\n",
    "        # this is the enclosed function\n",
    "        # the inner function accessing the outer function's variable 'name'\n",
    "        print(name)\n",
    "    return inner\n",
    "# call the enclosing function\n",
    "myFunction = outer('TechVidvan')\n",
    "myFunction()\n",
    "\n",
    "Here, the call to outer function returns the inner function. This then gets assigned to ‘myFunction’.\n",
    "Now when we call myFunction, it prints ‘TechVidvan’ (which was earlier given as an argument to outer).\n",
    "\n",
    "Do you see what just happened here? Even after ‘outer’ finishes its execution and all its variables go out of scope,\n",
    "the value passed to its argument is still remembered.\n",
    "\n",
    "This is the beauty of closures! We can access the values of a function that no longer exists. \n",
    "\n",
    "\n",
    "\n",
    "'''\n",
    "print(\"Closures in python\")"
   ]
  },
  {
   "cell_type": "code",
   "execution_count": null,
   "metadata": {},
   "outputs": [],
   "source": [
    "'''\n",
    "When and Why do you need to use Closures in Python?\n",
    "\n",
    "You can use closures –\n",
    "\n",
    "1)To replace the unnecessary use of class:\n",
    "Suppose you have a class that contains just one method besides the __init__ method.\n",
    "In such cases, it is often more elegant to use a closure instead of a class.\n",
    "\n",
    "2)To avoid the use of the global scope: \n",
    "If you have global variables which only one function in your program will use, think closure. \n",
    "Define the variables in the outer function and use them in the inner function.\n",
    "\n",
    "3)To implement data hiding: \n",
    "The only way to access the enclosed function is by calling the enclosing function.\n",
    "There is no way to access the inner function directly.\n",
    "\n",
    "\n",
    "4)To remember a function environment even after it completes its execution:\n",
    "You can then access the variables of this environment later in your program.\n",
    "\n",
    "Wrapping Up!\n",
    "Closures are just functions, but with an extra environment of variables.\n",
    "\n",
    "\n",
    "\n",
    "\n",
    "\n",
    "'''"
   ]
  }
 ],
 "metadata": {
  "kernelspec": {
   "display_name": "Python 3",
   "language": "python",
   "name": "python3"
  },
  "language_info": {
   "codemirror_mode": {
    "name": "ipython",
    "version": 3
   },
   "file_extension": ".py",
   "mimetype": "text/x-python",
   "name": "python",
   "nbconvert_exporter": "python",
   "pygments_lexer": "ipython3",
   "version": "3.8.5"
  }
 },
 "nbformat": 4,
 "nbformat_minor": 4
}
