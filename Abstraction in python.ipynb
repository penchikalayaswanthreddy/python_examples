{
 "cells": [
  {
   "cell_type": "markdown",
   "metadata": {},
   "source": [
    "# Data abstraction in python"
   ]
  },
  {
   "cell_type": "code",
   "execution_count": 10,
   "metadata": {},
   "outputs": [
    {
     "name": "stdout",
     "output_type": "stream",
     "text": [
      "Abstarction in python\n"
     ]
    }
   ],
   "source": [
    "'''\n",
    "Abstraction is one of the most important features of object-oriented programming. \n",
    "It is used to hide the background details or any unnecessary implementation.\n",
    "\n",
    "----->Pre-defined functions are similar to data abstraction.\n",
    "\n",
    "A class that consists of one or more abstract method is called the abstract class. \n",
    "Abstract methods do not contain their implementation. \n",
    "Abstract class can be inherited by the subclass and abstract method gets its definition in the subclass. \n",
    "Abstraction classes are meant to be the blueprint of the other class.\n",
    "An abstract class can be useful when we are designing large functions. \n",
    "An abstract class is also helpful to provide the standard interface for different implementations of components.\n",
    "Python provides the abc module to use the abstraction in the Python program. \n",
    "\n",
    "Below are the points which we should remember about the abstract base class in Python.\n",
    "\n",
    "------> An Abstract class can contain the both method normal and abstract method.\n",
    "------> An Abstract class cannot be instantiated; we cannot create objects for the abstract class.\n",
    "\n",
    "\n",
    "\n",
    "'''\n",
    "print(\"Abstarction in python\")"
   ]
  },
  {
   "cell_type": "code",
   "execution_count": 1,
   "metadata": {},
   "outputs": [],
   "source": [
    "from abc import ABC,abstractmethod"
   ]
  },
  {
   "cell_type": "code",
   "execution_count": 9,
   "metadata": {},
   "outputs": [
    {
     "name": "stdout",
     "output_type": "stream",
     "text": [
      "My favourite player is MS Dhoni\n",
      "My favourite player is David Warner\n"
     ]
    }
   ],
   "source": [
    "class cricket(ABC):\n",
    "    \n",
    "    @abstractmethod\n",
    "    def fav_player(self):\n",
    "        pass\n",
    "    \n",
    "class India(cricket):\n",
    "    def fav_player(self):\n",
    "        print(\"My favourite player is MS Dhoni\")\n",
    "        \n",
    "class Australia(cricket):\n",
    "    def fav_player(self):\n",
    "        print(\"My favourite player is David Warner\")\n",
    "        \n",
    "class England(cricket):\n",
    "    def fav_player(self):\n",
    "        print(\"My favourite player is Joe Root\")\n",
    "\n",
    "I=India()\n",
    "I.fav_player()\n",
    "A=Australia()\n",
    "A.fav_player()"
   ]
  },
  {
   "cell_type": "code",
   "execution_count": null,
   "metadata": {},
   "outputs": [],
   "source": []
  }
 ],
 "metadata": {
  "kernelspec": {
   "display_name": "Python 3",
   "language": "python",
   "name": "python3"
  },
  "language_info": {
   "codemirror_mode": {
    "name": "ipython",
    "version": 3
   },
   "file_extension": ".py",
   "mimetype": "text/x-python",
   "name": "python",
   "nbconvert_exporter": "python",
   "pygments_lexer": "ipython3",
   "version": "3.8.5"
  }
 },
 "nbformat": 4,
 "nbformat_minor": 4
}
